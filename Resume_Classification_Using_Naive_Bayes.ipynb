{
  "nbformat": 4,
  "nbformat_minor": 0,
  "metadata": {
    "colab": {
      "provenance": []
    },
    "kernelspec": {
      "name": "python3",
      "display_name": "Python 3"
    },
    "language_info": {
      "name": "python"
    }
  },
  "cells": [
    {
      "cell_type": "markdown",
      "metadata": {
        "id": "gOQv69UdcrIK"
      },
      "source": [
        "# Resume Classification "
      ]
    },
    {
      "cell_type": "markdown",
      "metadata": {
        "id": "sNCzT95pcrIN"
      },
      "source": [
        "## Objectives"
      ]
    },
    {
      "cell_type": "markdown",
      "metadata": {
        "id": "IMBrLtAtcrIO"
      },
      "source": [
        "* perform data preprocessing, EDA and feature extraction on the Resume dataset\n",
        "* perform multinomial Naive Bayes classification on the Resume dataset"
      ]
    },
    {
      "cell_type": "markdown",
      "metadata": {
        "id": "v6Xda9CM9el9"
      },
      "source": [
        "### Dataset description"
      ]
    },
    {
      "cell_type": "markdown",
      "metadata": {
        "id": "VeRfk4Sb9h0r"
      },
      "source": [
        "The data is in CSV format, with two features: Category, and Resume. \n",
        "\n",
        "**Category** -  Industry sector to which the resume belongs to, and \n",
        "\n",
        "**Resume** - The complete CV (text) of the candidate."
      ]
    },
    {
      "cell_type": "code",
      "metadata": {
        "id": "5t0FQjPs8o4s"
      },
      "source": [
        "import numpy as np\n",
        "import pandas as pd\n",
        "import seaborn as sns\n",
        "import matplotlib.pyplot as plt\n",
        "import warnings\n",
        "warnings.filterwarnings('ignore')\n",
        "from sklearn.model_selection import train_test_split\n",
        "from sklearn.preprocessing import LabelEncoder\n",
        "from sklearn.naive_bayes import MultinomialNB\n",
        "from sklearn import metrics\n",
        "from sklearn.metrics import accuracy_score\n",
        "from pandas.plotting import scatter_matrix\n",
        "from sklearn import metrics\n",
        "from sklearn.feature_extraction.text import TfidfVectorizer\n",
        "from matplotlib.gridspec import GridSpec\n",
        "import nltk\n",
        "nltk.download('stopwords')\n",
        "nltk.download('punkt')\n",
        "from nltk.corpus import stopwords\n",
        "import string\n",
        "from wordcloud import WordCloud"
      ],
      "execution_count": null,
      "outputs": []
    },
    {
      "cell_type": "markdown",
      "metadata": {
        "id": "NnFxtl619jg_"
      },
      "source": [
        "Dataset Source Reference: [Resume dataset](https://www.kaggle.com/gauravduttakiit/resume-dataset/download) "
      ]
    },
    {
      "cell_type": "markdown",
      "metadata": {
        "id": "standing-zimbabwe"
      },
      "source": [
        "#### Download the data "
      ]
    },
    {
      "cell_type": "markdown",
      "metadata": {
        "id": "T3FkLI6wcaat"
      },
      "source": [
        "**Read the UpdatedResumeDataset.csv dataset**"
      ]
    },
    {
      "cell_type": "code",
      "metadata": {
        "id": "eIu-AOsB9GfD"
      },
      "source": [
        "# read the dataset\n",
        "df = pd.read_csv('UpdatedResumeDataSet.csv')"
      ],
      "execution_count": null,
      "outputs": []
    },
    {
      "cell_type": "code",
      "source": [
        "df.head()"
      ],
      "metadata": {
        "id": "Sk5weL24KVH7"
      },
      "execution_count": null,
      "outputs": []
    },
    {
      "cell_type": "code",
      "source": [
        "df.shape"
      ],
      "metadata": {
        "id": "IiN-Aom7KbvM"
      },
      "execution_count": null,
      "outputs": []
    },
    {
      "cell_type": "markdown",
      "metadata": {
        "id": "QvddL7X69NiB"
      },
      "source": [
        "### Pre-processing and EDA"
      ]
    },
    {
      "cell_type": "markdown",
      "metadata": {
        "id": "EA1d25HrzTGW"
      },
      "source": [
        "**Display  all the categories of resumes and their counts in the dataset**\n",
        "\n"
      ]
    },
    {
      "cell_type": "code",
      "metadata": {
        "id": "C92ji6ZV9MWs"
      },
      "source": [
        "# Display the distinct categories of resume\n",
        "df['Category'].unique()"
      ],
      "execution_count": null,
      "outputs": []
    },
    {
      "cell_type": "code",
      "metadata": {
        "id": "YtIjY7ji9va5"
      },
      "source": [
        "# Display the distinct categories of resume and the number of records belonging to each category\n",
        "df['Category'].value_counts()"
      ],
      "execution_count": null,
      "outputs": []
    },
    {
      "cell_type": "markdown",
      "metadata": {
        "id": "kpHv50ojzvO5"
      },
      "source": [
        "**Create the count plot of different categories**"
      ]
    },
    {
      "cell_type": "code",
      "metadata": {
        "id": "zYwrK_5f93gP"
      },
      "source": [
        "plt.figure(figsize=(10, 10))\n",
        "sns.countplot(x= None, y=df['Category'])"
      ],
      "execution_count": null,
      "outputs": []
    },
    {
      "cell_type": "markdown",
      "metadata": {
        "id": "VyXtz0Mr0NVB"
      },
      "source": [
        "**Create a pie plot depicting the percentage of resume distributions category-wise**"
      ]
    },
    {
      "cell_type": "code",
      "metadata": {
        "id": "qrpJDoGx-CuF"
      },
      "source": [
        "targetCounts = df['Category'].value_counts()\n",
        "targetLabels  = df['Category'].value_counts().index.tolist()\n",
        "plt.figure(1, figsize=(10,10))\n",
        "the_grid = GridSpec(2, 2)\n",
        "cmap = plt.cm.coolwarm\n",
        "colors = cmap(np.linspace(0., 1., len(targetLabels)))\n",
        "plt.pie(targetCounts, labels=targetLabels, colors=colors)\n",
        "plt.show()"
      ],
      "execution_count": null,
      "outputs": []
    },
    {
      "cell_type": "markdown",
      "metadata": {
        "id": "KJaznteJ1xr4"
      },
      "source": [
        "Convert all the `Resume` text to lower case**\n",
        "\n",
        "\n"
      ]
    },
    {
      "cell_type": "code",
      "metadata": {
        "id": "tf1wNRqb-Om2"
      },
      "source": [
        "# Convert all characters to lowercase\n",
        "df['Resume'] = df['Resume'].str.lower()\n",
        "df.head()"
      ],
      "execution_count": null,
      "outputs": []
    },
    {
      "cell_type": "markdown",
      "metadata": {
        "id": "8cBXmdXpDIQJ"
      },
      "source": [
        "### Cleaning resumes' text data"
      ]
    },
    {
      "cell_type": "markdown",
      "metadata": {
        "id": "yvkRbRnM3ap7"
      },
      "source": [
        "**A function to clean the resume text**\n",
        "\n",
        "In the text there are special characters, urls, hashtags, mentions, etc. Remove:  \n",
        "\n",
        "* URLs: For reference \n",
        "* RT | cc: For reference click \n",
        "* Hashtags, # and Mentions, @\n",
        "* punctuations\n",
        "* extra whitespace\n",
        " "
      ]
    },
    {
      "cell_type": "code",
      "source": [
        "df.tail(20)"
      ],
      "metadata": {
        "id": "9FrBvEHC2sgi"
      },
      "execution_count": null,
      "outputs": []
    },
    {
      "cell_type": "code",
      "metadata": {
        "id": "k9Z-Oois_LWE"
      },
      "source": [
        "import re\n",
        "def cleanResume(resumeText):\n",
        "  resumeText = re.sub(r'https?://\\S+', '', resumeText)\n",
        "  resumeText = re.sub(r'RT|cc', '', resumeText)\n",
        "  resumeText = re.sub(r'#\\S+', '', resumeText)\n",
        "  resumeText = re.sub(r'@\\S+', '', resumeText)\n",
        "  resumeText = re.sub(r'[^a-zA-Z0-9\\s]', '', resumeText)\n",
        "  resumeText = re.sub(r'\\S+', '', resumeText)\n",
        "  return resumeText\n"
      ],
      "execution_count": null,
      "outputs": []
    },
    {
      "cell_type": "code",
      "source": [
        "import re\n",
        "def cleanResume(resumeText):\n",
        "  # Removing the URLs\n",
        "  resumeText = re.sub(r'http\\S+', '', resumeText)\n",
        "\n",
        "  # Removing RTs\n",
        "  resumeText = re.sub(r'RT|cc:\\S+', '', resumeText)\n",
        "\n",
        "  # Removing mentions(@)\n",
        "  resumeText = re.sub(r'@\\S+', '', resumeText)\n",
        "\n",
        "  # Removing hashtags(#)\n",
        "  resumeText = re.sub(r'#\\S+', '', resumeText)\n",
        "\n",
        "  # Removing punctuations\n",
        "  resumeText = re.sub(r'[^a-zA-Z0-9\\s]', '', resumeText)\n",
        "\n",
        "  # Removing Extra whitespaces\n",
        "  resumeTokens = resumeText.split()\n",
        "  resumeTokens = [token.strip() for token in resumeTokens]\n",
        "  resumeText = \" \".join(resumeTokens)\n",
        "\n",
        "  return resumeText"
      ],
      "metadata": {
        "id": "aGE6pBNCUTmA"
      },
      "execution_count": null,
      "outputs": []
    },
    {
      "cell_type": "code",
      "metadata": {
        "id": "0O2tR_IjDNWr"
      },
      "source": [
        " df['cleaned_resume'] = df['Resume'].apply(cleanResume)"
      ],
      "execution_count": null,
      "outputs": []
    },
    {
      "cell_type": "code",
      "source": [
        "df.head()"
      ],
      "metadata": {
        "id": "5zKVwMSi3ybD"
      },
      "execution_count": null,
      "outputs": []
    },
    {
      "cell_type": "code",
      "metadata": {
        "id": "1EnSuTubI_S1"
      },
      "source": [
        "sent_lens = []\n",
        "for i in df.cleaned_resume:\n",
        "    length = len(i.split())\n",
        "    sent_lens.append(length)\n",
        "    \n",
        "print(len(sent_lens))\n",
        "print(max(sent_lens))"
      ],
      "execution_count": null,
      "outputs": []
    },
    {
      "cell_type": "markdown",
      "metadata": {
        "id": "ktaCkU5yG5V0"
      },
      "source": [
        "### Stopwords removal"
      ]
    },
    {
      "cell_type": "markdown",
      "metadata": {
        "id": "I0XDeidJG-hc"
      },
      "source": [
        "The stopwords, for example, `and, the, was, and so forth` etc. appear very frequently in the text and are not helpful in the predictive process. Therefore these are usually removed for text analytics and text classification purposes.\n",
        "\n",
        "1. Tokenize the input words into individual tokens and store it in an array\n",
        "2. Using `nltk.corpus.stopwords`, remove the stopwords \n"
      ]
    },
    {
      "cell_type": "markdown",
      "metadata": {
        "id": "HWP5cZL5_f0V"
      },
      "source": [
        "**Use `nltk` package to find the most common words from the `cleaned resume` column **"
      ]
    },
    {
      "cell_type": "code",
      "metadata": {
        "id": "mvSiTsqqXjeT"
      },
      "source": [
        "# stop words\n",
        "stopword_list = nltk.corpus.stopwords.words('english')\n",
        "print(stopword_list)"
      ],
      "execution_count": null,
      "outputs": []
    },
    {
      "cell_type": "code",
      "source": [
        "def remove_stopwords(resumeText):\n",
        "\n",
        "  resumeTokens = resumeText.split()\n",
        "  resumeTokens = [token for token in resumeTokens if token not in stopword_list]\n",
        "  resumeText = \" \".join(resumeTokens)\n",
        "\n",
        "  return resumeText\n",
        "\n",
        "\n",
        "df['cleaned_resume'] = df['cleaned_resume'].apply(remove_stopwords)\n"
      ],
      "metadata": {
        "id": "Fb8zY6oeARjD"
      },
      "execution_count": null,
      "outputs": []
    },
    {
      "cell_type": "code",
      "metadata": {
        "id": "0v9bZeMwX0lN"
      },
      "source": [
        "# most common words\n",
        "from nltk.probability import FreqDist\n",
        "c_words = []\n",
        "def common_words(text):\n",
        "  words = nltk.tokenize.word_tokenize(text)\n",
        "  for word in words:\n",
        "    c_words.append(word)\n",
        "\n",
        "df['cleaned_resume'].apply(common_words)\n",
        "Common_words_freq = FreqDist(c_words)\n",
        "Common_words_freq"
      ],
      "execution_count": null,
      "outputs": []
    },
    {
      "cell_type": "code",
      "metadata": {
        "id": "QYAJU8teYBlv"
      },
      "source": [
        "plt.figure(figsize=(10,10))\n",
        "words = ' '.join(word for word in c_words)\n",
        "WC = WordCloud(width=1000, height=500, max_words=500, min_font_size=5)\n",
        "Common_words_wc = WC.generate(words)\n",
        "plt.imshow(Common_words_wc, interpolation='bilinear')\n",
        "plt.show"
      ],
      "execution_count": null,
      "outputs": []
    },
    {
      "cell_type": "markdown",
      "metadata": {
        "id": "SpxqmsM6TmJu"
      },
      "source": [
        "**Convert the categorical variable `Category` to a numerical feature and make a different column, which can be treated as the target variable **"
      ]
    },
    {
      "cell_type": "code",
      "metadata": {
        "id": "kg4QNr7DYSJ5"
      },
      "source": [
        "from sklearn.preprocessing import LabelEncoder\n",
        "# YOUR CODE HERE\n",
        "le = LabelEncoder()\n",
        "df['Category_class'] = le.fit_transform(df['Category'])\n",
        "print(df['Category_class'].unique())\n",
        "df['Category_class'].value_counts()\n"
      ],
      "execution_count": null,
      "outputs": []
    },
    {
      "cell_type": "markdown",
      "metadata": {
        "id": "HUauwAsOn31f"
      },
      "source": [
        "### Feature Extraction"
      ]
    },
    {
      "cell_type": "markdown",
      "metadata": {
        "id": "bTTiMQvYA77m"
      },
      "source": [
        "**Convert the text to feature vectors by applying `tfidf vectorizer` to the Label encoded category made above **\n",
        "\n",
        "`TF-IDF`will tokenize documents, learn the vocabulary, inverse document frequency weightings, and allow you to encode new documents\n",
        "\n"
      ]
    },
    {
      "cell_type": "code",
      "source": [
        "tv = TfidfVectorizer(ngram_range=(1,2))\n",
        "tfidf_CV = tv.fit_transform(df['cleaned_resume'])\n",
        "print('tfidf_CV:', tfidf_CV.shape)"
      ],
      "metadata": {
        "id": "tPIc2mgvn5-n"
      },
      "execution_count": null,
      "outputs": []
    },
    {
      "cell_type": "markdown",
      "metadata": {
        "id": "ZPTb3I-Oon2D"
      },
      "source": [
        "## Naive Bayes Classifier"
      ]
    },
    {
      "cell_type": "markdown",
      "metadata": {
        "id": "ocjoqFlCFJn3"
      },
      "source": [
        "**Split the data into train and test sets. Apply Naive Bayes Classifier (MultinomialNB) and evaluate the model predictions** "
      ]
    },
    {
      "cell_type": "code",
      "metadata": {
        "id": "hYoRwtlWobMI"
      },
      "source": [
        "X_train, X_test, y_train, y_test = train_test_split(tfidf_CV, df['Category_class'], test_size = 0.2, random_state = 0)"
      ],
      "execution_count": null,
      "outputs": []
    },
    {
      "cell_type": "code",
      "source": [
        "print(X_train.shape, y_train.shape)\n",
        "print(X_test.shape, y_test.shape)"
      ],
      "metadata": {
        "id": "mXeFtCEypftg"
      },
      "execution_count": null,
      "outputs": []
    },
    {
      "cell_type": "code",
      "source": [
        "mnb = MultinomialNB()\n",
        "mnb_tfidf = mnb.fit(X_train, y_train)\n",
        "print('MultinomialNB for tf-idf :', mnb_tfidf)"
      ],
      "metadata": {
        "id": "_F_VzBVhpfqP"
      },
      "execution_count": null,
      "outputs": []
    },
    {
      "cell_type": "code",
      "source": [
        "mnb_tfidf_predict = mnb.predict(X_test)\n",
        "print('predictions for tf-idf :', mnb_tfidf_predict)"
      ],
      "metadata": {
        "id": "sKBU2h1IpfnT"
      },
      "execution_count": null,
      "outputs": []
    },
    {
      "cell_type": "code",
      "source": [
        "mnb_tfidf_score = accuracy_score(y_test, mnb_tfidf_predict)\n",
        "print(\"mnb_tfidf_score :\", mnb_tfidf_score)"
      ],
      "metadata": {
        "id": "QxQyCd8WpfkR"
      },
      "execution_count": null,
      "outputs": []
    },
    {
      "cell_type": "markdown",
      "metadata": {
        "id": "mr0xI6QwFN-Q"
      },
      "source": [
        "## Create a Gradio based web interface to test and display the model predictions"
      ]
    },
    {
      "cell_type": "code",
      "source": [
        "!pip -qq install gradio"
      ],
      "metadata": {
        "id": "zv0sJePvtKEk"
      },
      "execution_count": null,
      "outputs": []
    },
    {
      "cell_type": "code",
      "source": [
        "import gradio"
      ],
      "metadata": {
        "id": "LhuNm-BHtnvE"
      },
      "execution_count": null,
      "outputs": []
    },
    {
      "cell_type": "code",
      "source": [
        "# Function for preprocessing of text\n",
        "\n",
        "def preprocess_text(text):\n",
        "    text = cleanResume(text)\n",
        "    text = remove_stopwords(text)\n",
        "\n",
        "    return text"
      ],
      "metadata": {
        "id": "5vDY0m0fts8o"
      },
      "execution_count": null,
      "outputs": []
    },
    {
      "cell_type": "code",
      "source": [
        "def predict_category_label(text):\n",
        "    \n",
        "    processed_text = preprocess_text(text)\n",
        "    category = tv.transform([processed_text])\n",
        "    pred = mnb_tfidf.predict(category)\n",
        "    pred_category = le.inverse_transform(pred)\n",
        "    return pred_category[0]"
      ],
      "metadata": {
        "id": "5mlU35XHuNMb"
      },
      "execution_count": null,
      "outputs": []
    },
    {
      "cell_type": "code",
      "source": [
        "predict_category_label('skills * programming languages: python (pandas, numpy, scipy, scikit-learn, matplotlib), sql, java, javascript/jquery. * machine learning: regression, svm, naã¯ve bayes, knn, random forest, decision trees, boosting techniques, cluster analysis, word embedding, sentiment analysis, natural language processing, dimensionality reduction, topic modelling (lda, nmf), pca & neural nets. * database visualizations: mysql, sqlserver, cassandra, hbase, elasticsearch d3.js, dc.js, plotly, kibana, matplotlib, ggplot, tableau. * others: regular expression, html, css, angular 6, logstash, kafka, python flask, git, docker, computer vision - open cv and understanding of deep learning.education details \\r\\n\\r\\ndata science assurance associate \\r\\n\\r\\ndata science assurance associate - ernst & young llp\\r\\nskill details \\r\\njavascript- exprience - 24 months\\r\\njquery- exprience - 24 months\\r\\npython- exprience - 24 monthscompany details \\r\\ncompany - ernst & young llp\\r\\ndescription - fraud investigations and dispute services   assurance\\r\\ntechnology assisted review\\r\\ntar (technology assisted review) assists in accelerating the review process and run analytics and generate reports.\\r\\n* core member of a team helped in developing automated review platform tool from scratch for assisting e discovery domain, this tool implements predictive coding and topic modelling by automating reviews, resulting in reduced labor costs and time spent during the lawyers review.\\r\\n* understand the end to end flow of the solution, doing research and development for classification models, predictive analysis and mining of the information present in text data. worked on analyzing the outputs and precision monitoring for the entire tool.\\r\\n* tar assists in predictive coding, topic modelling from the evidence by following ey standards. developed the classifier models in order to identify \"red flags\" and fraud-related issues.\\r\\n\\r\\ntools & technologies: python, scikit-learn, tfidf, word2vec, doc2vec, cosine similarity, naã¯ve bayes, lda, nmf for topic modelling, vader and text blob for sentiment analysis. matplot lib, tableau dashboard for reporting.\\r\\n\\r\\nmultiple data science and analytic projects (usa clients)\\r\\ntext analytics - motor vehicle customer review data * received customer feedback survey data for past one year. performed sentiment (positive, negative & neutral) and time series analysis on customer comments across all 4 categories.\\r\\n* created heat map of terms by survey category based on frequency of words * extracted positive and negative words across all the survey categories and plotted word cloud.\\r\\n* created customized tableau dashboards for effective reporting and visualizations.\\r\\nchatbot * developed a user friendly chatbot for one of our products which handle simple questions about hours of operation, reservation options and so on.\\r\\n* this chat bot serves entire product related questions. giving overview of tool via qa platform and also give recommendation responses so that user question to build chain of relevant answer.\\r\\n* this too has intelligence to build the pipeline of questions as per user requirement and asks the relevant /recommended questions.\\r\\n\\r\\ntools & technologies: python, natural language processing, nltk, spacy, topic modelling, sentiment analysis, word embedding, scikit-learn, javascript/jquery, sqlserver\\r\\n\\r\\ninformation governance\\r\\norganizations to make informed decisions about all of the information they store. the integrated information governance portfolio synthesizes intelligence across unstructured data sources and facilitates action to ensure organizations are best positioned to counter information risk.\\r\\n* scan data from multiple sources of formats and parse different file formats, extract meta data information, push results for indexing elastic search and created customized, interactive dashboards using kibana.\\r\\n* preforming rot analysis on the data which give information of data which helps identify content that is either redundant, outdated, or trivial.\\r\\n* preforming full-text search analysis on elastic search with predefined methods which can tag as (pii) personally identifiable information (social security numbers, addresses, names, etc.) which frequently targeted during cyber-attacks.\\r\\ntools & technologies: python, flask, elastic search, kibana\\r\\n\\r\\nfraud analytic platform\\r\\nfraud analytics and investigative platform to review all red flag cases.\\r\\nâ\\x80¢ fap is a fraud analytics and investigative platform with inbuilt case manager and suite of analytics for various erp systems.\\r\\n* it can be used by clients to interrogate their accounting systems for identifying the anomalies which can be indicators of fraud by running advanced analytics\\r\\ntools & technologies: html, javascript, sqlserver, jquery, css, bootstrap, node.js, d3.js, dc.js')\n"
      ],
      "metadata": {
        "id": "XPHzYdsavbrW"
      },
      "execution_count": null,
      "outputs": []
    },
    {
      "cell_type": "code",
      "source": [
        "in_resume = gradio.inputs.Textbox(lines=2, placeholder=None, default=\"resume\", label='Enter Resume Text')"
      ],
      "metadata": {
        "id": "ScGvVvGkwEga"
      },
      "execution_count": null,
      "outputs": []
    },
    {
      "cell_type": "code",
      "source": [
        "out_label = gradio.outputs.Textbox(type=\"text\", label='Predicted Resume Category')"
      ],
      "metadata": {
        "id": "FKT6dPdfwUXy"
      },
      "execution_count": null,
      "outputs": []
    },
    {
      "cell_type": "code",
      "source": [
        "iface = gradio.Interface(\n",
        "  fn = predict_category_label, \n",
        "  inputs = [in_resume],\n",
        "  outputs = [out_label])\n",
        "iface.launch(share=True)"
      ],
      "metadata": {
        "id": "cz_CJRPHwj9s"
      },
      "execution_count": null,
      "outputs": []
    },
    {
      "cell_type": "markdown",
      "source": [
        "## Count Vectorizer (accuracy = 0.99)"
      ],
      "metadata": {
        "id": "PcdCcmDM4ZRq"
      }
    },
    {
      "cell_type": "code",
      "source": [
        "from sklearn.feature_extraction.text import CountVectorizer\n",
        "cv = CountVectorizer(ngram_range=(1,2))\n",
        "# transformed train reviews\n",
        "X = cv.fit_transform(df['cleaned_resume'])\n",
        "print('cv_resume:', X.shape)"
      ],
      "metadata": {
        "id": "o2ThO-Auxf82"
      },
      "execution_count": null,
      "outputs": []
    },
    {
      "cell_type": "code",
      "source": [
        "X_train, X_test, y_train, y_test = train_test_split(X, df['Category_class'], test_size = 0.2, random_state = 0)"
      ],
      "metadata": {
        "id": "QN5qutDZxf2E"
      },
      "execution_count": null,
      "outputs": []
    },
    {
      "cell_type": "code",
      "source": [
        "mnb = MultinomialNB()\n",
        "# fitting the NaiveBayes for count vectorizer\n",
        "mnb_cv = mnb.fit(X_train, y_train)\n",
        "print('MultinomialNB for Count Vectorizer :', mnb_cv)"
      ],
      "metadata": {
        "id": "FKxCQu_Sxfyn"
      },
      "execution_count": null,
      "outputs": []
    },
    {
      "cell_type": "code",
      "source": [
        "mnb_cv_predict = mnb.predict(X_test)\n",
        "print('predictions for Count Vectorizer :', mnb_cv_predict)"
      ],
      "metadata": {
        "id": "w9DC-BDXxfve"
      },
      "execution_count": null,
      "outputs": []
    },
    {
      "cell_type": "code",
      "source": [
        "mnb_cv_score = accuracy_score(y_test, mnb_cv_predict)\n",
        "print(\"mnb_cv_score :\", mnb_cv_score)"
      ],
      "metadata": {
        "colab": {
          "base_uri": "https://localhost:8080/"
        },
        "id": "0NSXS2IMxfn9",
        "outputId": "1b4db475-614c-498a-91f0-2bc231abcce7"
      },
      "execution_count": null,
      "outputs": [
        {
          "output_type": "stream",
          "name": "stdout",
          "text": [
            "mnb_cv_score : 0.9948186528497409\n"
          ]
        }
      ]
    },
    {
      "cell_type": "code",
      "source": [],
      "metadata": {
        "id": "mzSeIuCUaCGm"
      },
      "execution_count": null,
      "outputs": []
    },
    {
      "cell_type": "code",
      "source": [
        "from sklearn.feature_extraction.text import CountVectorizer\n",
        "cv = CountVectorizer(ngram_range=(1,2))\n",
        "X = cv.fit_transform(df['cleaned_resume'])\n",
        "print('cv_resume:', X.shape)\n",
        "\n",
        "X_train, X_test, y_train, y_test = train_test_split(X, df['Category_class'], test_size = 0.2, random_state = 0)\n",
        "\n",
        "mnb = MultinomialNB()\n",
        "mnb_cv = mnb.fit(X_train, y_train)\n",
        "print('MultinomialNB for Count Vectorizer :', mnb_cv)\n",
        "\n",
        "mnb_cv_predict = mnb.predict(X_test)\n",
        "print('predictions for Count Vectorizer :', mnb_cv_predict)\n",
        "\n",
        "mnb_cv_score = accuracy_score(y_test, mnb_cv_predict)\n",
        "print(\"mnb_cv_score :\", mnb_cv_score)"
      ],
      "metadata": {
        "id": "XLfLVelMZmKb"
      },
      "execution_count": null,
      "outputs": []
    },
    {
      "cell_type": "markdown",
      "source": [
        "# TFIDF part 2 (alpha=0) (accuracy = 0.99)"
      ],
      "metadata": {
        "id": "tG0raGMPaGae"
      }
    },
    {
      "cell_type": "code",
      "source": [
        "tv = TfidfVectorizer(ngram_range=(1,2))\n",
        "tfidf_CV = tv.fit_transform(df['cleaned_resume'], df['Category_class'])\n",
        "print('tfidf_CV:', tfidf_CV.shape)"
      ],
      "metadata": {
        "id": "AHcY7TKSaCDS"
      },
      "execution_count": null,
      "outputs": []
    },
    {
      "cell_type": "code",
      "source": [
        "X_train, X_test, y_train, y_test = train_test_split(tfidf_CV, df['Category_class'], test_size = 0.2, random_state = 0)"
      ],
      "metadata": {
        "id": "9TqUXvzIaCAR"
      },
      "execution_count": null,
      "outputs": []
    },
    {
      "cell_type": "code",
      "source": [
        "print(X_train.shape, y_train.shape)\n",
        "print(X_test.shape, y_test.shape)"
      ],
      "metadata": {
        "id": "dYBXvibuaB9E"
      },
      "execution_count": null,
      "outputs": []
    },
    {
      "cell_type": "code",
      "source": [
        "mnb = MultinomialNB(alpha=0)\n",
        "mnb_tfidf = mnb.fit(X_train, y_train)\n",
        "print('MultinomialNB for tf-idf :', mnb_tfidf)"
      ],
      "metadata": {
        "id": "IomvTewnaB6U"
      },
      "execution_count": null,
      "outputs": []
    },
    {
      "cell_type": "code",
      "source": [
        "mnb_tfidf_predict = mnb.predict(X_test)\n",
        "print('predictions for tf-idf :', mnb_tfidf_predict)"
      ],
      "metadata": {
        "colab": {
          "base_uri": "https://localhost:8080/"
        },
        "id": "feu94uG2aB3h",
        "outputId": "dd6ad901-0d02-4729-e82f-f50f442ded51"
      },
      "execution_count": null,
      "outputs": [
        {
          "output_type": "stream",
          "name": "stdout",
          "text": [
            "predictions for tf-idf : [20 14  6 17 15 14 10 14 15  2  6 23  4 11 13  4 19  8  8  9 12 11 17 22\n",
            " 19 16  5  8  3  7 20 18 22  7 23 23 22 18  7 20 10 20 14  8 15 15  8 11\n",
            "  4 22  1 24 14 15 22 23  8 15  3 17 18  3  0 15 15 15 16 21 13 18 12 23\n",
            " 22 12 13 22  8  7 19  4 24 14  7  1 24 13 12 10  9  8 22  9 23 11  9 23\n",
            " 11 15 23 13  4 17  2  5  6 10  0 19 20 10 22 10 15 10 15 15 22  6 14  6\n",
            "  0  4  5  7  9 13 23  6  9  9 21 11  5  3  9 24 19 13  8  3 13 13 11 20\n",
            " 16 23 21 24  7 21 20 15 22 19 15 23  9 15 15  6  2 20  7 11 23 24  8  3\n",
            " 20  2 10 22 15  2 11 23  1 23  6  3  3 24 24 12  5 23 18 22 20 20  3  6\n",
            " 15]\n"
          ]
        }
      ]
    },
    {
      "cell_type": "code",
      "source": [
        "mnb_tfidf_score = accuracy_score(y_test, mnb_tfidf_predict)\n",
        "print(\"mnb_tfidf_score :\", mnb_tfidf_score)"
      ],
      "metadata": {
        "colab": {
          "base_uri": "https://localhost:8080/"
        },
        "id": "zbNiF9w4aB01",
        "outputId": "06adbafc-bbf8-477c-c840-430cfd2b9c0b"
      },
      "execution_count": null,
      "outputs": [
        {
          "output_type": "stream",
          "name": "stdout",
          "text": [
            "mnb_tfidf_score : 0.9948186528497409\n"
          ]
        }
      ]
    },
    {
      "cell_type": "markdown",
      "source": [
        "# TFIDF part 3 (stratify and fit_prior =False) (accuracy = 0.98)"
      ],
      "metadata": {
        "id": "vQXsfozOylF7"
      }
    },
    {
      "cell_type": "code",
      "source": [
        "tv = TfidfVectorizer(ngram_range=(1,2))\n",
        "tfidf_CV = tv.fit_transform(df['cleaned_resume'])\n",
        "print('tfidf_CV:', tfidf_CV.shape)"
      ],
      "metadata": {
        "id": "NSAWOf9cyjs2"
      },
      "execution_count": null,
      "outputs": []
    },
    {
      "cell_type": "code",
      "source": [
        "X_train, X_test, y_train, y_test = train_test_split(tfidf_CV, df['Category_class'], test_size = 0.2, random_state = 0, stratify = df['Category_class'])"
      ],
      "metadata": {
        "id": "pvI5SbNtaBx-"
      },
      "execution_count": null,
      "outputs": []
    },
    {
      "cell_type": "code",
      "source": [
        "mnb = MultinomialNB(fit_prior = False)\n",
        "mnb_tfidf = mnb.fit(X_train, y_train)\n",
        "print('MultinomialNB for tf-idf :', mnb_tfidf)"
      ],
      "metadata": {
        "id": "JHJgHF7YaBvM"
      },
      "execution_count": null,
      "outputs": []
    },
    {
      "cell_type": "code",
      "source": [
        "mnb_tfidf_predict = mnb.predict(X_test)\n",
        "print('predictions for tf-idf :', mnb_tfidf_predict)"
      ],
      "metadata": {
        "id": "gq4H-wtYaBsS"
      },
      "execution_count": null,
      "outputs": []
    },
    {
      "cell_type": "code",
      "source": [
        "mnb_tfidf_score = accuracy_score(y_test, mnb_tfidf_predict)\n",
        "print(\"mnb_tfidf_score :\", mnb_tfidf_score)"
      ],
      "metadata": {
        "id": "lVPxwdo30lOQ"
      },
      "execution_count": null,
      "outputs": []
    },
    {
      "cell_type": "markdown",
      "source": [
        "# TFIDF part 4 (stratify, alpha, fit_prior) (accuracy = 1.0)"
      ],
      "metadata": {
        "id": "SKbdeDtW3DAi"
      }
    },
    {
      "cell_type": "code",
      "source": [
        "tv = TfidfVectorizer(ngram_range=(1,2))\n",
        "tfidf_CV = tv.fit_transform(df['cleaned_resume'])\n",
        "print('tfidf_CV:', tfidf_CV.shape)"
      ],
      "metadata": {
        "id": "ViXhqf7u0lDG"
      },
      "execution_count": null,
      "outputs": []
    },
    {
      "cell_type": "code",
      "source": [
        "X_train, X_test, y_train, y_test = train_test_split(tfidf_CV, df['Category_class'], test_size = 0.2, random_state = 0, stratify = df['Category_class'])"
      ],
      "metadata": {
        "id": "SfUxZIQ53Kua"
      },
      "execution_count": null,
      "outputs": []
    },
    {
      "cell_type": "code",
      "source": [
        "mnb = MultinomialNB(fit_prior = False, alpha = 0)\n",
        "mnb_tfidf = mnb.fit(X_train, y_train)\n",
        "print('MultinomialNB for tf-idf :', mnb_tfidf)"
      ],
      "metadata": {
        "id": "vt9luKk83KrL"
      },
      "execution_count": null,
      "outputs": []
    },
    {
      "cell_type": "code",
      "source": [
        "mnb_tfidf_predict = mnb.predict(X_test)\n",
        "print('predictions for tf-idf :', mnb_tfidf_predict)"
      ],
      "metadata": {
        "id": "XkrYkp6T3Kon"
      },
      "execution_count": null,
      "outputs": []
    },
    {
      "cell_type": "code",
      "source": [
        "mnb_tfidf_score = accuracy_score(y_test, mnb_tfidf_predict)\n",
        "print(\"mnb_tfidf_score :\", mnb_tfidf_score)"
      ],
      "metadata": {
        "colab": {
          "base_uri": "https://localhost:8080/"
        },
        "id": "B6w1z-0n0k0t",
        "outputId": "7bfbb298-9e93-460e-95e7-010582bf4dc7"
      },
      "execution_count": null,
      "outputs": [
        {
          "output_type": "stream",
          "name": "stdout",
          "text": [
            "mnb_tfidf_score : 1.0\n"
          ]
        }
      ]
    }
  ]
}